{
  "cells": [
    {
      "cell_type": "markdown",
      "source": [
        "In NLP task, we are using the ncbi_disease dataset (a high-quality gold standard for disease name recognition and normalization research). We will use the spaCy model. In this task, you will understand. \n",
        "1.Create a dataset for training and testing\n",
        "2.Understand how to pre-process the dataset\n",
        "3.Training the model\n",
        "4.Evaluation the model performance by testing dataset\n",
        "\n"
      ],
      "metadata": {
        "id": "22TL6c05aqLv"
      },
      "id": "22TL6c05aqLv"
    },
    {
      "cell_type": "code",
      "execution_count": 1,
      "id": "fb1542a6",
      "metadata": {
        "id": "fb1542a6"
      },
      "outputs": [],
      "source": [
        "%%capture\n",
        "!pip install datasets\n",
        "!pip install sentencepiece\n",
        "!pip install dataprep\n",
        "!pip install simpletransformers\n",
        "!pip install colorama\n",
        "!pip install plac\n",
        "!pip install spacy\n",
        "!pip pathlib\n",
        "!python -m spacy download en_core_web_lg"
      ]
    },
    {
      "cell_type": "code",
      "source": [
        "from __future__ import unicode_literals, print_function\n",
        "from pathlib import Path"
      ],
      "metadata": {
        "id": "J-T6Jqn1lMuN"
      },
      "id": "J-T6Jqn1lMuN",
      "execution_count": 2,
      "outputs": []
    },
    {
      "cell_type": "code",
      "source": [
        "import spacy\n",
        "from tqdm import tqdm \n",
        "from datasets import load_dataset\n",
        "from spacy.training import Example\n",
        "from spacy.scorer import Scorer"
      ],
      "metadata": {
        "id": "IcOOwA0ZmjKE"
      },
      "id": "IcOOwA0ZmjKE",
      "execution_count": 3,
      "outputs": []
    },
    {
      "cell_type": "code",
      "execution_count": 4,
      "id": "0a66d452",
      "metadata": {
        "id": "0a66d452"
      },
      "outputs": [],
      "source": [
        "from simpletransformers.ner import NERModel, NERArgs\n",
        "import gc\n",
        "import re\n",
        "import string\n",
        "import operator\n",
        "import os\n",
        "\n",
        "import numpy as np\n",
        "import pandas as pd\n",
        "pd.set_option('display.max_rows', 500)\n",
        "pd.set_option('display.max_columns', 500)\n",
        "pd.set_option('display.width', 1000)\n",
        "\n",
        "import matplotlib.pyplot as plt\n",
        "import seaborn as sns\n",
        "\n",
        "from wordcloud import STOPWORDS\n",
        "\n",
        "from sklearn.metrics import accuracy_score\n",
        "from sklearn.model_selection import train_test_split\n",
        "\n",
        "from dataprep.eda import plot, plot_correlation, create_report, plot_missing\n",
        "from pprint import pprint\n",
        "\n",
        "import plac\n",
        "import random"
      ]
    },
    {
      "cell_type": "code",
      "execution_count": 5,
      "id": "f9e164fe",
      "metadata": {
        "id": "f9e164fe"
      },
      "outputs": [],
      "source": [
        "import re\n",
        "def clean_text(text):\n",
        "    text=' '.join([i for i in text.split(',')])\n",
        "    text=' '.join([i for i in text.split(\"'\")])\n",
        "    text=' '.join([i for i in text.split() if i.isalpha()])\n",
        "    \n",
        "    return text"
      ]
    },
    {
      "cell_type": "code",
      "source": [
        "#from thinc.neural.optimizers import Adam"
      ],
      "metadata": {
        "id": "FHY4-87B91v5"
      },
      "id": "FHY4-87B91v5",
      "execution_count": 6,
      "outputs": []
    },
    {
      "cell_type": "code",
      "source": [
        "from thinc.api import Adam"
      ],
      "metadata": {
        "id": "-WVagaBxR_cT"
      },
      "id": "-WVagaBxR_cT",
      "execution_count": 7,
      "outputs": []
    },
    {
      "cell_type": "markdown",
      "id": "b5aa5c31",
      "metadata": {
        "id": "b5aa5c31"
      },
      "source": [
        "# import Dataset\n",
        "## In this dataset, we are using ncbi_disease (https://huggingface.co/datasets/ncbi_disease), which consists of 793 PubMed abstracts, which are separated into training (593), development (100) and test (100) subsets. The NCBI Disease corpus is annotated with disease mentions, using concept identifiers from either MeSH or OMIM. The model trained by this dataset can be used to extract disease name information from a given sentence. "
      ]
    },
    {
      "cell_type": "code",
      "execution_count": 8,
      "id": "878e7979",
      "metadata": {
        "colab": {
          "base_uri": "https://localhost:8080/",
          "height": 66,
          "referenced_widgets": [
            "5a454ae69436455eb48c3e32cb684057",
            "888da5b74a474f47b099adae1732b3f1",
            "3c1fc14040794f9ea5e2653090141cf2",
            "186689051f68425dbbf018e2e05c59fe",
            "33a9c810097e4b2ba40a70af4597f7c8",
            "ffd2498c20b84338ba83480cdfca5cb9",
            "088c0baf176441e9b7edbd579ab1ed17",
            "2144a77250364ec3ad1d5754500a3bf2",
            "609529358e3d43cebdb60a99a6df13e0",
            "7e69020cd06d4265b4629742cf114355",
            "1350464472eb4ad4a560405983a1f672"
          ]
        },
        "id": "878e7979",
        "outputId": "42dc1fff-3e9f-4990-cf42-b4e031834bd1"
      },
      "outputs": [
        {
          "output_type": "stream",
          "name": "stderr",
          "text": [
            "WARNING:datasets.builder:Found cached dataset ncbi_disease (/root/.cache/huggingface/datasets/ncbi_disease/ncbi_disease/1.0.0/92314c7992b0b8a5ea2ad101be33f365b684a2cc011e0ffa29c691e6d32b2d03)\n"
          ]
        },
        {
          "output_type": "display_data",
          "data": {
            "text/plain": [
              "  0%|          | 0/3 [00:00<?, ?it/s]"
            ],
            "application/vnd.jupyter.widget-view+json": {
              "version_major": 2,
              "version_minor": 0,
              "model_id": "5a454ae69436455eb48c3e32cb684057"
            }
          },
          "metadata": {}
        }
      ],
      "source": [
        "dataset = load_dataset(\"ncbi_disease\")"
      ]
    },
    {
      "cell_type": "markdown",
      "source": [
        "The data is split into a train (5433 instances), validation (924 instances) and test set (941 instances)."
      ],
      "metadata": {
        "id": "pe4_rTDL5-wc"
      },
      "id": "pe4_rTDL5-wc"
    },
    {
      "cell_type": "code",
      "execution_count": 9,
      "id": "641475b5",
      "metadata": {
        "colab": {
          "base_uri": "https://localhost:8080/"
        },
        "id": "641475b5",
        "outputId": "4ca3f883-6675-4c9e-e7a6-ec0ece915219"
      },
      "outputs": [
        {
          "output_type": "execute_result",
          "data": {
            "text/plain": [
              "DatasetDict({\n",
              "    train: Dataset({\n",
              "        features: ['id', 'tokens', 'ner_tags'],\n",
              "        num_rows: 5433\n",
              "    })\n",
              "    validation: Dataset({\n",
              "        features: ['id', 'tokens', 'ner_tags'],\n",
              "        num_rows: 924\n",
              "    })\n",
              "    test: Dataset({\n",
              "        features: ['id', 'tokens', 'ner_tags'],\n",
              "        num_rows: 941\n",
              "    })\n",
              "})"
            ]
          },
          "metadata": {},
          "execution_count": 9
        }
      ],
      "source": [
        "dataset"
      ]
    },
    {
      "cell_type": "code",
      "execution_count": 10,
      "id": "0e054892",
      "metadata": {
        "id": "0e054892"
      },
      "outputs": [],
      "source": [
        "df_train = pd.DataFrame(dataset['train'])\n",
        "df_val = pd.DataFrame(dataset['validation'])\n",
        "df_test = pd.DataFrame(dataset['test'])"
      ]
    },
    {
      "cell_type": "code",
      "execution_count": 11,
      "id": "667df103",
      "metadata": {
        "colab": {
          "base_uri": "https://localhost:8080/"
        },
        "id": "667df103",
        "outputId": "df84302f-d9ff-4198-9b6f-39e3a850a5e0"
      },
      "outputs": [
        {
          "output_type": "stream",
          "name": "stdout",
          "text": [
            "['Identification', 'of', 'APC2', ',', 'a', 'homologue', 'of', 'the', 'adenomatous', 'polyposis', 'coli', 'tumour', 'suppressor', '.']\n",
            "[0, 0, 0, 0, 0, 0, 0, 0, 1, 2, 2, 2, 0, 0]\n"
          ]
        }
      ],
      "source": [
        "print(df_train.iloc[0].tokens)\n",
        "print(df_train.iloc[0].ner_tags)"
      ]
    },
    {
      "cell_type": "code",
      "execution_count": 12,
      "id": "f14c9f94",
      "metadata": {
        "colab": {
          "base_uri": "https://localhost:8080/"
        },
        "id": "f14c9f94",
        "outputId": "2ae1fd1c-513b-4b4b-a27b-59b67cd986d3"
      },
      "outputs": [
        {
          "output_type": "execute_result",
          "data": {
            "text/plain": [
              "(7298, 3)"
            ]
          },
          "metadata": {},
          "execution_count": 12
        }
      ],
      "source": [
        "eda_df = pd.concat([df_train,df_val,df_test], ignore_index=True)\n",
        "eda_df.shape"
      ]
    },
    {
      "cell_type": "code",
      "execution_count": 13,
      "id": "47d172e8",
      "metadata": {
        "id": "47d172e8"
      },
      "outputs": [],
      "source": [
        "eda_df['sentences'] = eda_df['tokens'].apply(lambda x: str(x)[1:-1])"
      ]
    },
    {
      "cell_type": "code",
      "execution_count": 14,
      "id": "b9a4065c",
      "metadata": {
        "colab": {
          "base_uri": "https://localhost:8080/"
        },
        "id": "b9a4065c",
        "outputId": "4e5c9b41-b632-431c-e051-4298d3377467"
      },
      "outputs": [
        {
          "output_type": "execute_result",
          "data": {
            "text/plain": [
              "id                                                           0\n",
              "tokens       [Identification, of, APC2, ,, a, homologue, of...\n",
              "ner_tags            [0, 0, 0, 0, 0, 0, 0, 0, 1, 2, 2, 2, 0, 0]\n",
              "sentences    'Identification', 'of', 'APC2', ',', 'a', 'hom...\n",
              "content      Identification of a homologue of the adenomato...\n",
              "Name: 0, dtype: object"
            ]
          },
          "metadata": {},
          "execution_count": 14
        }
      ],
      "source": [
        "eda_df['content'] = eda_df['sentences'].apply(clean_text)\n",
        "eda_df.iloc[0]"
      ]
    },
    {
      "cell_type": "markdown",
      "id": "b51d21b3",
      "metadata": {
        "id": "b51d21b3"
      },
      "source": [
        "# The explaination of dataset\n",
        "## From upper list, we can find the dataset contains five columns,\n",
        "### The first column is the sentence id.\n",
        "### The second is token which is the words separated by space.\n",
        "### The third is the tag for each token. 0:non-disease, 1:initial word of the disease, and 2: the following word of the disease.\n",
        "### The sentence columns is the token column removing the empty space.\n",
        "### The content column is the sentence we are seeing in the document."
      ]
    },
    {
      "cell_type": "code",
      "execution_count": 15,
      "id": "6685cc7e",
      "metadata": {
        "id": "6685cc7e"
      },
      "outputs": [],
      "source": [
        "import en_core_web_lg\n",
        "nlp= en_core_web_lg.load()"
      ]
    },
    {
      "cell_type": "code",
      "execution_count": 16,
      "id": "12d43638",
      "metadata": {
        "colab": {
          "base_uri": "https://localhost:8080/"
        },
        "id": "12d43638",
        "outputId": "22f3bf2a-9967-442a-95f3-d87004c03fd8"
      },
      "outputs": [
        {
          "output_type": "stream",
          "name": "stdout",
          "text": [
            "5433\n"
          ]
        }
      ],
      "source": [
        "train_data = []\n",
        "for i in range(len(df_train)):\n",
        "    stri = ' '\n",
        "    ent = {}\n",
        "    ent['entities'] = []\n",
        "    for word in df_train.iloc[i]['tokens']:\n",
        "        stri+=f'{word} '\n",
        "    for idx, word in zip(df_train.iloc[i]['ner_tags'], df_train.iloc[i]['tokens']):\n",
        "        if idx == 1:\n",
        "            start_index = stri.find(word)\n",
        "            end_index = start_index + len(word)\n",
        "            s = (start_index, end_index, 'I_Disease')\n",
        "            ent['entities'].append(s)\n",
        "        if idx == 2:\n",
        "            start_index = stri.find(word)\n",
        "            end_index = start_index + len(word)\n",
        "            s = (start_index, end_index, 'B_Disease')\n",
        "            ent['entities'].append(s)\n",
        "    ent['entities'] = list(set(ent['entities']))\n",
        "    res = (stri, ent)\n",
        "    train_data.append(res)\n",
        "print(len(train_data))"
      ]
    },
    {
      "cell_type": "code",
      "execution_count": 17,
      "id": "9e4609b6",
      "metadata": {
        "colab": {
          "base_uri": "https://localhost:8080/"
        },
        "id": "9e4609b6",
        "outputId": "e3415662-7ce2-4ce8-b65e-8a675cf78015"
      },
      "outputs": [
        {
          "output_type": "stream",
          "name": "stdout",
          "text": [
            "924\n"
          ]
        }
      ],
      "source": [
        "val_data = []\n",
        "for i in range(len(df_val)):\n",
        "    stri = ' '\n",
        "    ent = {}\n",
        "    ent['entities'] = []\n",
        "    for word in df_val.iloc[i]['tokens']:\n",
        "        stri+=f'{word} '\n",
        "    for idx, word in zip(df_val.iloc[i]['ner_tags'], df_val.iloc[i]['tokens']):\n",
        "        if idx == 1:\n",
        "            start_index = stri.find(word)\n",
        "            end_index = start_index + len(word)\n",
        "            s = (start_index, end_index, 'I_Disease')\n",
        "            ent['entities'].append(s)\n",
        "        if idx == 2:\n",
        "            start_index = stri.find(word)\n",
        "            end_index = start_index + len(word)\n",
        "            s = (start_index, end_index, 'B_Disease')\n",
        "            ent['entities'].append(s)\n",
        "    ent['entities'] = list(set(ent['entities']))\n",
        "    res = (stri, ent)\n",
        "    val_data.append(res)\n",
        "print(len(val_data))"
      ]
    },
    {
      "cell_type": "code",
      "execution_count": 18,
      "id": "dc885a68",
      "metadata": {
        "colab": {
          "base_uri": "https://localhost:8080/"
        },
        "id": "dc885a68",
        "outputId": "07b92911-f7c9-4da1-d3f8-0cf4a485d6b0"
      },
      "outputs": [
        {
          "output_type": "stream",
          "name": "stdout",
          "text": [
            "941\n"
          ]
        }
      ],
      "source": [
        "test_data = []\n",
        "for i in range(len(df_test)):\n",
        "    stri = ' '\n",
        "    ent = {}\n",
        "    ent['entities'] = []\n",
        "    for word in df_test.iloc[i]['tokens']:\n",
        "        stri+=f'{word} '\n",
        "    for idx, word in zip(df_test.iloc[i]['ner_tags'], df_test.iloc[i]['tokens']):\n",
        "        if idx == 1:\n",
        "            start_index = stri.find(word)\n",
        "            end_index = start_index + len(word)\n",
        "            s = (start_index, end_index, 'I_Disease')\n",
        "            ent['entities'].append(s)\n",
        "        if idx == 2:\n",
        "            start_index = stri.find(word)\n",
        "            end_index = start_index + len(word)\n",
        "            s = (start_index, end_index, 'B_Disease')\n",
        "            ent['entities'].append(s)\n",
        "    ent['entities'] = list(set(ent['entities']))\n",
        "    res = (stri, ent)\n",
        "    test_data.append(res)\n",
        "print(len(test_data))"
      ]
    },
    {
      "cell_type": "code",
      "execution_count": 30,
      "id": "06e5e5de",
      "metadata": {
        "id": "06e5e5de"
      },
      "outputs": [],
      "source": [
        "directory = ''\n",
        "file_folder='NER_model'\n",
        "download_path=directory+file_folder\n",
        "isExist = os.path.exists(download_path)\n",
        "if not isExist:\n",
        " # Create a new directory because it does not exist\n",
        "   os.makedirs(download_path)"
      ]
    },
    {
      "cell_type": "code",
      "source": [
        "download_path"
      ],
      "metadata": {
        "colab": {
          "base_uri": "https://localhost:8080/",
          "height": 35
        },
        "id": "6p8lc8Decb69",
        "outputId": "11f07d1d-74b8-4d6d-9120-9e4367f3d933"
      },
      "id": "6p8lc8Decb69",
      "execution_count": 31,
      "outputs": [
        {
          "output_type": "execute_result",
          "data": {
            "text/plain": [
              "'NER_model'"
            ],
            "application/vnd.google.colaboratory.intrinsic+json": {
              "type": "string"
            }
          },
          "metadata": {},
          "execution_count": 31
        }
      ]
    },
    {
      "cell_type": "code",
      "execution_count": 33,
      "id": "3b2aefd2",
      "metadata": {
        "id": "3b2aefd2"
      },
      "outputs": [],
      "source": [
        "model = None # you can assign the path for some pre-train models\n",
        "output_dir=Path(download_path)\n",
        "epoche=5"
      ]
    },
    {
      "cell_type": "code",
      "execution_count": 34,
      "id": "3ef053e7",
      "metadata": {
        "colab": {
          "base_uri": "https://localhost:8080/"
        },
        "id": "3ef053e7",
        "outputId": "8fd9fc5e-67cb-4a0c-860f-359e5144ebae"
      },
      "outputs": [
        {
          "output_type": "stream",
          "name": "stdout",
          "text": [
            "Created blank 'en' model\n"
          ]
        }
      ],
      "source": [
        "if model is not None:\n",
        "    nlp = spacy.load(model)  \n",
        "    print(\"Loaded model '%s'\" % model)\n",
        "else:\n",
        "    nlp = spacy.blank('en')  \n",
        "    print(\"Created blank 'en' model\")"
      ]
    },
    {
      "cell_type": "code",
      "execution_count": 35,
      "id": "68c472b5",
      "metadata": {
        "id": "68c472b5"
      },
      "outputs": [],
      "source": [
        "if 'ner' not in nlp.pipe_names:\n",
        "    nlp.add_pipe('ner', last=True)\n",
        "else:\n",
        "    ner = nlp.get_pipe('ner')"
      ]
    },
    {
      "cell_type": "code",
      "execution_count": 46,
      "id": "a3238f23",
      "metadata": {
        "colab": {
          "base_uri": "https://localhost:8080/"
        },
        "id": "a3238f23",
        "outputId": "c452966b-fe58-4975-f042-43d50164caca"
      },
      "outputs": [
        {
          "output_type": "stream",
          "name": "stderr",
          "text": [
            "/usr/local/lib/python3.7/dist-packages/spacy/training/iob_utils.py:144: UserWarning: [W030] Some entities could not be aligned in the text \" In type I GD , the CNS is not involved ( nonneuro...\" with entities \"[(11, 13, 'B_Disease'), (79, 81, 'B_Disease'), (4,...\". Use `spacy.training.offsets_to_biluo_tags(nlp.make_doc(text), entities)` to check the alignment. Misaligned entities ('-') will be ignored during training.\n",
            "  entities=ent_str[:50] + \"...\" if len(ent_str) > 50 else ent_str,\n",
            "/usr/local/lib/python3.7/dist-packages/spacy/training/iob_utils.py:144: UserWarning: [W030] Some entities could not be aligned in the text \" To assess this hypothesis , we employed an animal...\" with entities \"[(62, 63, 'B_Disease'), (1, 2, 'B_Disease'), (60, ...\". Use `spacy.training.offsets_to_biluo_tags(nlp.make_doc(text), entities)` to check the alignment. Misaligned entities ('-') will be ignored during training.\n",
            "  entities=ent_str[:50] + \"...\" if len(ent_str) > 50 else ent_str,\n",
            "/usr/local/lib/python3.7/dist-packages/spacy/training/iob_utils.py:144: UserWarning: [W030] Some entities could not be aligned in the text \" We have examined the OCRL1 gene in eight unrelate...\" with entities \"[(22, 26, 'I_Disease')]\". Use `spacy.training.offsets_to_biluo_tags(nlp.make_doc(text), entities)` to check the alignment. Misaligned entities ('-') will be ignored during training.\n",
            "  entities=ent_str[:50] + \"...\" if len(ent_str) > 50 else ent_str,\n",
            "/usr/local/lib/python3.7/dist-packages/spacy/training/iob_utils.py:144: UserWarning: [W030] Some entities could not be aligned in the text \" Identification of WASP mutations in patients with...\" with entities \"[(82, 90, 'I_Disease'), (91, 107, 'B_Disease'), (6...\". Use `spacy.training.offsets_to_biluo_tags(nlp.make_doc(text), entities)` to check the alignment. Misaligned entities ('-') will be ignored during training.\n",
            "  entities=ent_str[:50] + \"...\" if len(ent_str) > 50 else ent_str,\n",
            "/usr/local/lib/python3.7/dist-packages/spacy/training/iob_utils.py:144: UserWarning: [W030] Some entities could not be aligned in the text \" We have investigated 5 novel vWS families through...\" with entities \"[(79, 82, 'B_Disease'), (55, 58, 'B_Disease'), (87...\". Use `spacy.training.offsets_to_biluo_tags(nlp.make_doc(text), entities)` to check the alignment. Misaligned entities ('-') will be ignored during training.\n",
            "  entities=ent_str[:50] + \"...\" if len(ent_str) > 50 else ent_str,\n",
            "/usr/local/lib/python3.7/dist-packages/spacy/training/iob_utils.py:144: UserWarning: [W030] Some entities could not be aligned in the text \" We analysed 50 probands with a family history of ...\" with entities \"[(43, 45, 'B_Disease'), (74, 80, 'B_Disease'), (61...\". Use `spacy.training.offsets_to_biluo_tags(nlp.make_doc(text), entities)` to check the alignment. Misaligned entities ('-') will be ignored during training.\n",
            "  entities=ent_str[:50] + \"...\" if len(ent_str) > 50 else ent_str,\n",
            "/usr/local/lib/python3.7/dist-packages/spacy/training/iob_utils.py:144: UserWarning: [W030] Some entities could not be aligned in the text \" Information on DMPK mRNA and protein isoform expr...\" with entities \"[(16, 18, 'I_Disease')]\". Use `spacy.training.offsets_to_biluo_tags(nlp.make_doc(text), entities)` to check the alignment. Misaligned entities ('-') will be ignored during training.\n",
            "  entities=ent_str[:50] + \"...\" if len(ent_str) > 50 else ent_str,\n",
            "/usr/local/lib/python3.7/dist-packages/spacy/training/iob_utils.py:144: UserWarning: [W030] Some entities could not be aligned in the text \" There are strong parallels between the pattern of...\" with entities \"[(123, 124, 'I_Disease'), (182, 190, 'B_Disease'),...\". Use `spacy.training.offsets_to_biluo_tags(nlp.make_doc(text), entities)` to check the alignment. Misaligned entities ('-') will be ignored during training.\n",
            "  entities=ent_str[:50] + \"...\" if len(ent_str) > 50 else ent_str,\n",
            "/usr/local/lib/python3.7/dist-packages/spacy/training/iob_utils.py:144: UserWarning: [W030] Some entities could not be aligned in the text \" These findings establish that some neuropathologi...\" with entities \"[(76, 77, 'I_Disease'), (1, 2, 'B_Disease'), (54, ...\". Use `spacy.training.offsets_to_biluo_tags(nlp.make_doc(text), entities)` to check the alignment. Misaligned entities ('-') will be ignored during training.\n",
            "  entities=ent_str[:50] + \"...\" if len(ent_str) > 50 else ent_str,\n",
            "/usr/local/lib/python3.7/dist-packages/spacy/training/iob_utils.py:144: UserWarning: [W030] Some entities could not be aligned in the text \" We have characterised a novel missense mutation ,...\" with entities \"[(102, 103, 'B_Disease'), (99, 101, 'I_Disease'), ...\". Use `spacy.training.offsets_to_biluo_tags(nlp.make_doc(text), entities)` to check the alignment. Misaligned entities ('-') will be ignored during training.\n",
            "  entities=ent_str[:50] + \"...\" if len(ent_str) > 50 else ent_str,\n",
            "/usr/local/lib/python3.7/dist-packages/spacy/training/iob_utils.py:144: UserWarning: [W030] Some entities could not be aligned in the text \" Inactivation of both alleles of the RB1 gene duri...\" with entities \"[(109, 123, 'I_Disease'), (131, 136, 'B_Disease'),...\". Use `spacy.training.offsets_to_biluo_tags(nlp.make_doc(text), entities)` to check the alignment. Misaligned entities ('-') will be ignored during training.\n",
            "  entities=ent_str[:50] + \"...\" if len(ent_str) > 50 else ent_str,\n",
            "/usr/local/lib/python3.7/dist-packages/spacy/training/iob_utils.py:144: UserWarning: [W030] Some entities could not be aligned in the text \" These data demonstrate that ATM and the hMre11 / ...\" with entities \"[(170, 171, 'B_Disease'), (1, 2, 'B_Disease'), (29...\". Use `spacy.training.offsets_to_biluo_tags(nlp.make_doc(text), entities)` to check the alignment. Misaligned entities ('-') will be ignored during training.\n",
            "  entities=ent_str[:50] + \"...\" if len(ent_str) > 50 else ent_str,\n",
            "/usr/local/lib/python3.7/dist-packages/spacy/training/iob_utils.py:144: UserWarning: [W030] Some entities could not be aligned in the text \" The incidence of ovarian , gastric , and biliary ...\" with entities \"[(57, 67, 'B_Disease'), (18, 25, 'I_Disease'), (88...\". Use `spacy.training.offsets_to_biluo_tags(nlp.make_doc(text), entities)` to check the alignment. Misaligned entities ('-') will be ignored during training.\n",
            "  entities=ent_str[:50] + \"...\" if len(ent_str) > 50 else ent_str,\n",
            "/usr/local/lib/python3.7/dist-packages/spacy/training/iob_utils.py:144: UserWarning: [W030] Some entities could not be aligned in the text \" These observations provide a mechanistic basis fo...\" with entities \"[(58, 59, 'B_Disease'), (1, 2, 'B_Disease'), (56, ...\". Use `spacy.training.offsets_to_biluo_tags(nlp.make_doc(text), entities)` to check the alignment. Misaligned entities ('-') will be ignored during training.\n",
            "  entities=ent_str[:50] + \"...\" if len(ent_str) > 50 else ent_str,\n",
            "/usr/local/lib/python3.7/dist-packages/spacy/training/iob_utils.py:144: UserWarning: [W030] Some entities could not be aligned in the text \" The size of the ( CAG ) n repeat array in the 3 '...\" with entities \"[(235, 242, 'I_Disease'), (252, 259, 'B_Disease'),...\". Use `spacy.training.offsets_to_biluo_tags(nlp.make_doc(text), entities)` to check the alignment. Misaligned entities ('-') will be ignored during training.\n",
            "  entities=ent_str[:50] + \"...\" if len(ent_str) > 50 else ent_str,\n",
            "/usr/local/lib/python3.7/dist-packages/spacy/training/iob_utils.py:144: UserWarning: [W030] Some entities could not be aligned in the text \" Mutations resulting in defective splicing constit...\" with entities \"[(136, 138, 'I_Disease'), (171, 185, 'B_Disease'),...\". Use `spacy.training.offsets_to_biluo_tags(nlp.make_doc(text), entities)` to check the alignment. Misaligned entities ('-') will be ignored during training.\n",
            "  entities=ent_str[:50] + \"...\" if len(ent_str) > 50 else ent_str,\n",
            "/usr/local/lib/python3.7/dist-packages/spacy/training/iob_utils.py:144: UserWarning: [W030] Some entities could not be aligned in the text \" We have performed linkage analysis with the DNA m...\" with entities \"[(140, 141, 'B_Disease'), (142, 148, 'B_Disease'),...\". Use `spacy.training.offsets_to_biluo_tags(nlp.make_doc(text), entities)` to check the alignment. Misaligned entities ('-') will be ignored during training.\n",
            "  entities=ent_str[:50] + \"...\" if len(ent_str) > 50 else ent_str,\n",
            "/usr/local/lib/python3.7/dist-packages/spacy/training/iob_utils.py:144: UserWarning: [W030] Some entities could not be aligned in the text \" Mutations in the gene ATM are responsible for the...\" with entities \"[(23, 24, 'I_Disease'), (24, 25, 'B_Disease'), (20...\". Use `spacy.training.offsets_to_biluo_tags(nlp.make_doc(text), entities)` to check the alignment. Misaligned entities ('-') will be ignored during training.\n",
            "  entities=ent_str[:50] + \"...\" if len(ent_str) > 50 else ent_str,\n",
            "/usr/local/lib/python3.7/dist-packages/spacy/training/iob_utils.py:144: UserWarning: [W030] Some entities could not be aligned in the text \" Mutation in the gene encoding the recently isolat...\" with entities \"[(161, 169, 'B_Disease'), (132, 133, 'I_Disease'),...\". Use `spacy.training.offsets_to_biluo_tags(nlp.make_doc(text), entities)` to check the alignment. Misaligned entities ('-') will be ignored during training.\n",
            "  entities=ent_str[:50] + \"...\" if len(ent_str) > 50 else ent_str,\n",
            "/usr/local/lib/python3.7/dist-packages/spacy/training/iob_utils.py:144: UserWarning: [W030] Some entities could not be aligned in the text \" BRCA1 mRNA levels are markedly decreased during t...\" with entities \"[(90, 98, 'I_Disease'), (99, 105, 'B_Disease'), (4...\". Use `spacy.training.offsets_to_biluo_tags(nlp.make_doc(text), entities)` to check the alignment. Misaligned entities ('-') will be ignored during training.\n",
            "  entities=ent_str[:50] + \"...\" if len(ent_str) > 50 else ent_str,\n",
            "/usr/local/lib/python3.7/dist-packages/spacy/training/iob_utils.py:144: UserWarning: [W030] Some entities could not be aligned in the text \" Here we report that FCM - WASP analysis in monocy...\" with entities \"[(27, 30, 'I_Disease')]\". Use `spacy.training.offsets_to_biluo_tags(nlp.make_doc(text), entities)` to check the alignment. Misaligned entities ('-') will be ignored during training.\n",
            "  entities=ent_str[:50] + \"...\" if len(ent_str) > 50 else ent_str,\n",
            "/usr/local/lib/python3.7/dist-packages/spacy/training/iob_utils.py:144: UserWarning: [W030] Some entities could not be aligned in the text \" Mutations in the STA gene at the Xq28 locus have ...\" with entities \"[(97, 105, 'B_Disease'), (82, 88, 'B_Disease'), (8...\". Use `spacy.training.offsets_to_biluo_tags(nlp.make_doc(text), entities)` to check the alignment. Misaligned entities ('-') will be ignored during training.\n",
            "  entities=ent_str[:50] + \"...\" if len(ent_str) > 50 else ent_str,\n",
            "/usr/local/lib/python3.7/dist-packages/spacy/training/iob_utils.py:144: UserWarning: [W030] Some entities could not be aligned in the text \" The difference of the WASPdim population in monoc...\" with entities \"[(23, 26, 'I_Disease')]\". Use `spacy.training.offsets_to_biluo_tags(nlp.make_doc(text), entities)` to check the alignment. Misaligned entities ('-') will be ignored during training.\n",
            "  entities=ent_str[:50] + \"...\" if len(ent_str) > 50 else ent_str,\n",
            "/usr/local/lib/python3.7/dist-packages/spacy/training/iob_utils.py:144: UserWarning: [W030] Some entities could not be aligned in the text \" We infer that the coexistence of the two mutation...\" with entities \"[(4, 6, 'B_Disease'), (78, 88, 'B_Disease'), (92, ...\". Use `spacy.training.offsets_to_biluo_tags(nlp.make_doc(text), entities)` to check the alignment. Misaligned entities ('-') will be ignored during training.\n",
            "  entities=ent_str[:50] + \"...\" if len(ent_str) > 50 else ent_str,\n",
            "/usr/local/lib/python3.7/dist-packages/spacy/training/iob_utils.py:144: UserWarning: [W030] Some entities could not be aligned in the text \" A strong candidate for the 17q - linked BRCA1 gen...\" with entities \"[(89, 95, 'I_Disease'), (108, 114, 'B_Disease'), (...\". Use `spacy.training.offsets_to_biluo_tags(nlp.make_doc(text), entities)` to check the alignment. Misaligned entities ('-') will be ignored during training.\n",
            "  entities=ent_str[:50] + \"...\" if len(ent_str) > 50 else ent_str,\n",
            "/usr/local/lib/python3.7/dist-packages/spacy/training/iob_utils.py:144: UserWarning: [W030] Some entities could not be aligned in the text \" By using transient and stable overexpression of h...\" with entities \"[(155, 156, 'B_Disease'), (70, 73, 'B_Disease'), (...\". Use `spacy.training.offsets_to_biluo_tags(nlp.make_doc(text), entities)` to check the alignment. Misaligned entities ('-') will be ignored during training.\n",
            "  entities=ent_str[:50] + \"...\" if len(ent_str) > 50 else ent_str,\n",
            "/usr/local/lib/python3.7/dist-packages/spacy/training/iob_utils.py:144: UserWarning: [W030] Some entities could not be aligned in the text \" Both patients had a family history of breast or o...\" with entities \"[(49, 56, 'B_Disease'), (32, 34, 'B_Disease'), (57...\". Use `spacy.training.offsets_to_biluo_tags(nlp.make_doc(text), entities)` to check the alignment. Misaligned entities ('-') will be ignored during training.\n",
            "  entities=ent_str[:50] + \"...\" if len(ent_str) > 50 else ent_str,\n",
            "/usr/local/lib/python3.7/dist-packages/spacy/training/iob_utils.py:144: UserWarning: [W030] Some entities could not be aligned in the text \" The protein product of the gene responsible for A...\" with entities \"[(51, 52, 'B_Disease'), (1, 2, 'B_Disease'), (49, ...\". Use `spacy.training.offsets_to_biluo_tags(nlp.make_doc(text), entities)` to check the alignment. Misaligned entities ('-') will be ignored during training.\n",
            "  entities=ent_str[:50] + \"...\" if len(ent_str) > 50 else ent_str,\n",
            "/usr/local/lib/python3.7/dist-packages/spacy/training/iob_utils.py:144: UserWarning: [W030] Some entities could not be aligned in the text \" The mechanism by which ( CTG ) n expansion in the...\" with entities \"[(81, 89, 'I_Disease'), (90, 99, 'B_Disease'), (64...\". Use `spacy.training.offsets_to_biluo_tags(nlp.make_doc(text), entities)` to check the alignment. Misaligned entities ('-') will be ignored during training.\n",
            "  entities=ent_str[:50] + \"...\" if len(ent_str) > 50 else ent_str,\n",
            "/usr/local/lib/python3.7/dist-packages/spacy/training/iob_utils.py:144: UserWarning: [W030] Some entities could not be aligned in the text \" The PTS1R cDNA also complements the PTS1 protein ...\" with entities \"[(167, 175, 'I_Disease'), (52, 58, 'B_Disease'), (...\". Use `spacy.training.offsets_to_biluo_tags(nlp.make_doc(text), entities)` to check the alignment. Misaligned entities ('-') will be ignored during training.\n",
            "  entities=ent_str[:50] + \"...\" if len(ent_str) > 50 else ent_str,\n",
            "/usr/local/lib/python3.7/dist-packages/spacy/training/iob_utils.py:144: UserWarning: [W030] Some entities could not be aligned in the text \" \" Its overexpression may be a key consequence of ...\" with entities \"[(71, 72, 'I_Disease'), (158, 166, 'B_Disease'), (...\". Use `spacy.training.offsets_to_biluo_tags(nlp.make_doc(text), entities)` to check the alignment. Misaligned entities ('-') will be ignored during training.\n",
            "  entities=ent_str[:50] + \"...\" if len(ent_str) > 50 else ent_str,\n",
            "/usr/local/lib/python3.7/dist-packages/spacy/training/iob_utils.py:144: UserWarning: [W030] Some entities could not be aligned in the text \" We have observed over 25 different mutations in t...\" with entities \"[(53, 64, 'I_Disease'), (171, 173, 'B_Disease'), (...\". Use `spacy.training.offsets_to_biluo_tags(nlp.make_doc(text), entities)` to check the alignment. Misaligned entities ('-') will be ignored during training.\n",
            "  entities=ent_str[:50] + \"...\" if len(ent_str) > 50 else ent_str,\n",
            "/usr/local/lib/python3.7/dist-packages/spacy/training/iob_utils.py:144: UserWarning: [W030] Some entities could not be aligned in the text \" PCR amplification from genomic DNA and automated ...\" with entities \"[(162, 163, 'B_Disease'), (34, 35, 'I_Disease'), (...\". Use `spacy.training.offsets_to_biluo_tags(nlp.make_doc(text), entities)` to check the alignment. Misaligned entities ('-') will be ignored during training.\n",
            "  entities=ent_str[:50] + \"...\" if len(ent_str) > 50 else ent_str,\n",
            "/usr/local/lib/python3.7/dist-packages/spacy/training/iob_utils.py:144: UserWarning: [W030] Some entities could not be aligned in the text \" We hypothesize that , although loss of necdin exp...\" with entities \"[(164, 169, 'B_Disease'), (197, 205, 'B_Disease'),...\". Use `spacy.training.offsets_to_biluo_tags(nlp.make_doc(text), entities)` to check the alignment. Misaligned entities ('-') will be ignored during training.\n",
            "  entities=ent_str[:50] + \"...\" if len(ent_str) > 50 else ent_str,\n",
            "/usr/local/lib/python3.7/dist-packages/spacy/training/iob_utils.py:144: UserWarning: [W030] Some entities could not be aligned in the text \" Two of the mutations and three of the rare sequen...\" with entities \"[(136, 143, 'B_Disease'), (126, 132, 'I_Disease'),...\". Use `spacy.training.offsets_to_biluo_tags(nlp.make_doc(text), entities)` to check the alignment. Misaligned entities ('-') will be ignored during training.\n",
            "  entities=ent_str[:50] + \"...\" if len(ent_str) > 50 else ent_str,\n",
            "/usr/local/lib/python3.7/dist-packages/spacy/training/iob_utils.py:144: UserWarning: [W030] Some entities could not be aligned in the text \" Alterations of the length or amino acid compositi...\" with entities \"[(62, 63, 'B_Disease'), (64, 65, 'B_Disease'), (1,...\". Use `spacy.training.offsets_to_biluo_tags(nlp.make_doc(text), entities)` to check the alignment. Misaligned entities ('-') will be ignored during training.\n",
            "  entities=ent_str[:50] + \"...\" if len(ent_str) > 50 else ent_str,\n",
            "/usr/local/lib/python3.7/dist-packages/spacy/training/iob_utils.py:144: UserWarning: [W030] Some entities could not be aligned in the text \" Increased incidence of cataracts in male subjects...\" with entities \"[(88, 101, 'B_Disease'), (72, 73, 'B_Disease'), (1...\". Use `spacy.training.offsets_to_biluo_tags(nlp.make_doc(text), entities)` to check the alignment. Misaligned entities ('-') will be ignored during training.\n",
            "  entities=ent_str[:50] + \"...\" if len(ent_str) > 50 else ent_str,\n",
            "/usr/local/lib/python3.7/dist-packages/spacy/training/iob_utils.py:144: UserWarning: [W030] Some entities could not be aligned in the text \" The serum of a 44 - yr - old woman of French - Ca...\" with entities \"[(134, 141, 'B_Disease'), (11, 13, 'B_Disease'), (...\". Use `spacy.training.offsets_to_biluo_tags(nlp.make_doc(text), entities)` to check the alignment. Misaligned entities ('-') will be ignored during training.\n",
            "  entities=ent_str[:50] + \"...\" if len(ent_str) > 50 else ent_str,\n",
            "/usr/local/lib/python3.7/dist-packages/spacy/training/iob_utils.py:144: UserWarning: [W030] Some entities could not be aligned in the text \" The sodium channel beta1 subunit gene ( SCN1B ) m...\" with entities \"[(63, 66, 'B_Disease'), (145, 156, 'I_Disease'), (...\". Use `spacy.training.offsets_to_biluo_tags(nlp.make_doc(text), entities)` to check the alignment. Misaligned entities ('-') will be ignored during training.\n",
            "  entities=ent_str[:50] + \"...\" if len(ent_str) > 50 else ent_str,\n",
            "/usr/local/lib/python3.7/dist-packages/spacy/training/iob_utils.py:144: UserWarning: [W030] Some entities could not be aligned in the text \" Here we report that , in two large case - control...\" with entities \"[(41, 42, 'B_Disease'), (209, 216, 'I_Disease'), (...\". Use `spacy.training.offsets_to_biluo_tags(nlp.make_doc(text), entities)` to check the alignment. Misaligned entities ('-') will be ignored during training.\n",
            "  entities=ent_str[:50] + \"...\" if len(ent_str) > 50 else ent_str,\n",
            "/usr/local/lib/python3.7/dist-packages/spacy/training/iob_utils.py:144: UserWarning: [W030] Some entities could not be aligned in the text \" Rearrangement of the BCL1 ( B - cell lymphoma 1 )...\" with entities \"[(38, 46, 'B_Disease'), (117, 128, 'I_Disease'), (...\". Use `spacy.training.offsets_to_biluo_tags(nlp.make_doc(text), entities)` to check the alignment. Misaligned entities ('-') will be ignored during training.\n",
            "  entities=ent_str[:50] + \"...\" if len(ent_str) > 50 else ent_str,\n",
            "/usr/local/lib/python3.7/dist-packages/spacy/training/iob_utils.py:144: UserWarning: [W030] Some entities could not be aligned in the text \" This response is abrogated in A - T cells that ei...\" with entities \"[(1, 2, 'B_Disease'), (31, 32, 'I_Disease'), (33, ...\". Use `spacy.training.offsets_to_biluo_tags(nlp.make_doc(text), entities)` to check the alignment. Misaligned entities ('-') will be ignored during training.\n",
            "  entities=ent_str[:50] + \"...\" if len(ent_str) > 50 else ent_str,\n",
            "/usr/local/lib/python3.7/dist-packages/spacy/training/iob_utils.py:144: UserWarning: [W030] Some entities could not be aligned in the text \" The cellular features resulting from these hMRE11...\" with entities \"[(73, 75, 'B_Disease'), (92, 93, 'B_Disease'), (12...\". Use `spacy.training.offsets_to_biluo_tags(nlp.make_doc(text), entities)` to check the alignment. Misaligned entities ('-') will be ignored during training.\n",
            "  entities=ent_str[:50] + \"...\" if len(ent_str) > 50 else ent_str,\n",
            "/usr/local/lib/python3.7/dist-packages/spacy/training/iob_utils.py:144: UserWarning: [W030] Some entities could not be aligned in the text \" In studies of eight kindred , the 28 - base pair ...\" with entities \"[(79, 81, 'B_Disease'), (38, 39, 'B_Disease'), (21...\". Use `spacy.training.offsets_to_biluo_tags(nlp.make_doc(text), entities)` to check the alignment. Misaligned entities ('-') will be ignored during training.\n",
            "  entities=ent_str[:50] + \"...\" if len(ent_str) > 50 else ent_str,\n",
            "/usr/local/lib/python3.7/dist-packages/spacy/training/iob_utils.py:144: UserWarning: [W030] Some entities could not be aligned in the text \" No ATM protein was detected by western blotting i...\" with entities \"[(4, 6, 'I_Disease')]\". Use `spacy.training.offsets_to_biluo_tags(nlp.make_doc(text), entities)` to check the alignment. Misaligned entities ('-') will be ignored during training.\n",
            "  entities=ent_str[:50] + \"...\" if len(ent_str) > 50 else ent_str,\n",
            "/usr/local/lib/python3.7/dist-packages/spacy/training/iob_utils.py:144: UserWarning: [W030] Some entities could not be aligned in the text \" By expressing chimeric reporter constructs contai...\" with entities \"[(88, 90, 'I_Disease')]\". Use `spacy.training.offsets_to_biluo_tags(nlp.make_doc(text), entities)` to check the alignment. Misaligned entities ('-') will be ignored during training.\n",
            "  entities=ent_str[:50] + \"...\" if len(ent_str) > 50 else ent_str,\n",
            "/usr/local/lib/python3.7/dist-packages/spacy/training/iob_utils.py:144: UserWarning: [W030] Some entities could not be aligned in the text \" A frameshift mutation was detected in a male prob...\" with entities \"[(84, 92, 'B_Disease'), (73, 79, 'I_Disease'), (93...\". Use `spacy.training.offsets_to_biluo_tags(nlp.make_doc(text), entities)` to check the alignment. Misaligned entities ('-') will be ignored during training.\n",
            "  entities=ent_str[:50] + \"...\" if len(ent_str) > 50 else ent_str,\n",
            "/usr/local/lib/python3.7/dist-packages/spacy/training/iob_utils.py:144: UserWarning: [W030] Some entities could not be aligned in the text \" Using DNA as the starting material , we screened ...\" with entities \"[(71, 72, 'B_Disease'), (55, 56, 'B_Disease'), (9,...\". Use `spacy.training.offsets_to_biluo_tags(nlp.make_doc(text), entities)` to check the alignment. Misaligned entities ('-') will be ignored during training.\n",
            "  entities=ent_str[:50] + \"...\" if len(ent_str) > 50 else ent_str,\n",
            "/usr/local/lib/python3.7/dist-packages/spacy/training/iob_utils.py:144: UserWarning: [W030] Some entities could not be aligned in the text \" Previous study disclosed that flow cytometric ana...\" with entities \"[(73, 76, 'I_Disease')]\". Use `spacy.training.offsets_to_biluo_tags(nlp.make_doc(text), entities)` to check the alignment. Misaligned entities ('-') will be ignored during training.\n",
            "  entities=ent_str[:50] + \"...\" if len(ent_str) > 50 else ent_str,\n",
            "/usr/local/lib/python3.7/dist-packages/spacy/training/iob_utils.py:144: UserWarning: [W030] Some entities could not be aligned in the text \" Prader - Willi syndrome ( PWS ) is associated wit...\" with entities \"[(16, 24, 'B_Disease'), (122, 130, 'I_Disease'), (...\". Use `spacy.training.offsets_to_biluo_tags(nlp.make_doc(text), entities)` to check the alignment. Misaligned entities ('-') will be ignored during training.\n",
            "  entities=ent_str[:50] + \"...\" if len(ent_str) > 50 else ent_str,\n",
            "/usr/local/lib/python3.7/dist-packages/spacy/training/iob_utils.py:144: UserWarning: [W030] Some entities could not be aligned in the text \" The distinction between the two fragile sites is ...\" with entities \"[(33, 40, 'I_Disease'), (181, 189, 'B_Disease'), (...\". Use `spacy.training.offsets_to_biluo_tags(nlp.make_doc(text), entities)` to check the alignment. Misaligned entities ('-') will be ignored during training.\n",
            "  entities=ent_str[:50] + \"...\" if len(ent_str) > 50 else ent_str,\n",
            "/usr/local/lib/python3.7/dist-packages/spacy/training/iob_utils.py:144: UserWarning: [W030] Some entities could not be aligned in the text \" The abnormalities in lipoprotein distribution pro...\" with entities \"[(111, 117, 'B_Disease'), (168, 175, 'I_Disease'),...\". Use `spacy.training.offsets_to_biluo_tags(nlp.make_doc(text), entities)` to check the alignment. Misaligned entities ('-') will be ignored during training.\n",
            "  entities=ent_str[:50] + \"...\" if len(ent_str) > 50 else ent_str,\n",
            "/usr/local/lib/python3.7/dist-packages/spacy/training/iob_utils.py:144: UserWarning: [W030] Some entities could not be aligned in the text \" Autosomal recessive transmission of hemophilia A ...\" with entities \"[(63, 73, 'B_Disease'), (1, 2, 'B_Disease'), (59, ...\". Use `spacy.training.offsets_to_biluo_tags(nlp.make_doc(text), entities)` to check the alignment. Misaligned entities ('-') will be ignored during training.\n",
            "  entities=ent_str[:50] + \"...\" if len(ent_str) > 50 else ent_str,\n",
            "/usr/local/lib/python3.7/dist-packages/spacy/training/iob_utils.py:144: UserWarning: [W030] Some entities could not be aligned in the text \" To identify the mutations which inactivate RB1 , ...\" with entities \"[(44, 46, 'I_Disease'), (56, 62, 'B_Disease')]\". Use `spacy.training.offsets_to_biluo_tags(nlp.make_doc(text), entities)` to check the alignment. Misaligned entities ('-') will be ignored during training.\n",
            "  entities=ent_str[:50] + \"...\" if len(ent_str) > 50 else ent_str,\n",
            "/usr/local/lib/python3.7/dist-packages/spacy/training/iob_utils.py:144: UserWarning: [W030] Some entities could not be aligned in the text \" A strong candidate for the breast and ovarian can...\" with entities \"[(47, 53, 'B_Disease'), (11, 14, 'B_Disease'), (28...\". Use `spacy.training.offsets_to_biluo_tags(nlp.make_doc(text), entities)` to check the alignment. Misaligned entities ('-') will be ignored during training.\n",
            "  entities=ent_str[:50] + \"...\" if len(ent_str) > 50 else ent_str,\n",
            "/usr/local/lib/python3.7/dist-packages/spacy/training/iob_utils.py:144: UserWarning: [W030] Some entities could not be aligned in the text \" CLINICAL RELEVANCE Identification of mutations in...\" with entities \"[(55, 59, 'I_Disease')]\". Use `spacy.training.offsets_to_biluo_tags(nlp.make_doc(text), entities)` to check the alignment. Misaligned entities ('-') will be ignored during training.\n",
            "  entities=ent_str[:50] + \"...\" if len(ent_str) > 50 else ent_str,\n",
            "/usr/local/lib/python3.7/dist-packages/spacy/training/iob_utils.py:144: UserWarning: [W030] Some entities could not be aligned in the text \" To elucidate the range of WASP mutations responsi...\" with entities \"[(199, 207, 'I_Disease'), (208, 224, 'B_Disease'),...\". Use `spacy.training.offsets_to_biluo_tags(nlp.make_doc(text), entities)` to check the alignment. Misaligned entities ('-') will be ignored during training.\n",
            "  entities=ent_str[:50] + \"...\" if len(ent_str) > 50 else ent_str,\n",
            "/usr/local/lib/python3.7/dist-packages/spacy/training/iob_utils.py:144: UserWarning: [W030] Some entities could not be aligned in the text \" The association between normal alleles at the CTG...\" with entities \"[(175, 183, 'I_Disease'), (203, 205, 'I_Disease'),...\". Use `spacy.training.offsets_to_biluo_tags(nlp.make_doc(text), entities)` to check the alignment. Misaligned entities ('-') will be ignored during training.\n",
            "  entities=ent_str[:50] + \"...\" if len(ent_str) > 50 else ent_str,\n",
            "/usr/local/lib/python3.7/dist-packages/spacy/training/iob_utils.py:144: UserWarning: [W030] Some entities could not be aligned in the text \" Family studies in Bechterew ' s syndrome ( ankylo...\" with entities \"[(33, 41, 'B_Disease'), (8, 9, 'B_Disease'), (44, ...\". Use `spacy.training.offsets_to_biluo_tags(nlp.make_doc(text), entities)` to check the alignment. Misaligned entities ('-') will be ignored during training.\n",
            "  entities=ent_str[:50] + \"...\" if len(ent_str) > 50 else ent_str,\n",
            "/usr/local/lib/python3.7/dist-packages/spacy/training/iob_utils.py:144: UserWarning: [W030] Some entities could not be aligned in the text \" An amelogenin gene , AMGX , has been mapped to th...\" with entities \"[(89, 90, 'B_Disease'), (159, 165, 'B_Disease'), (...\". Use `spacy.training.offsets_to_biluo_tags(nlp.make_doc(text), entities)` to check the alignment. Misaligned entities ('-') will be ignored during training.\n",
            "  entities=ent_str[:50] + \"...\" if len(ent_str) > 50 else ent_str,\n",
            "/usr/local/lib/python3.7/dist-packages/spacy/training/iob_utils.py:144: UserWarning: [W030] Some entities could not be aligned in the text \" To do this , a collaborative screening study was ...\" with entities \"[(218, 219, 'B_Disease'), (231, 237, 'B_Disease'),...\". Use `spacy.training.offsets_to_biluo_tags(nlp.make_doc(text), entities)` to check the alignment. Misaligned entities ('-') will be ignored during training.\n",
            "  entities=ent_str[:50] + \"...\" if len(ent_str) > 50 else ent_str,\n",
            "/usr/local/lib/python3.7/dist-packages/spacy/training/iob_utils.py:144: UserWarning: [W030] Some entities could not be aligned in the text \" Given the expected logistical problems in clinica...\" with entities \"[(222, 229, 'B_Disease'), (217, 218, 'B_Disease'),...\". Use `spacy.training.offsets_to_biluo_tags(nlp.make_doc(text), entities)` to check the alignment. Misaligned entities ('-') will be ignored during training.\n",
            "  entities=ent_str[:50] + \"...\" if len(ent_str) > 50 else ent_str,\n",
            "/usr/local/lib/python3.7/dist-packages/spacy/training/iob_utils.py:144: UserWarning: [W030] Some entities could not be aligned in the text \" However , the mutant WT1 ( tmT396 ) protein accou...\" with entities \"[(22, 24, 'I_Disease')]\". Use `spacy.training.offsets_to_biluo_tags(nlp.make_doc(text), entities)` to check the alignment. Misaligned entities ('-') will be ignored during training.\n",
            "  entities=ent_str[:50] + \"...\" if len(ent_str) > 50 else ent_str,\n",
            "/usr/local/lib/python3.7/dist-packages/spacy/training/iob_utils.py:144: UserWarning: [W030] Some entities could not be aligned in the text \" The overlap between clinical and cellular phenoty...\" with entities \"[(59, 60, 'B_Disease'), (1, 2, 'B_Disease'), (67, ...\". Use `spacy.training.offsets_to_biluo_tags(nlp.make_doc(text), entities)` to check the alignment. Misaligned entities ('-') will be ignored during training.\n",
            "  entities=ent_str[:50] + \"...\" if len(ent_str) > 50 else ent_str,\n",
            "/usr/local/lib/python3.7/dist-packages/spacy/training/iob_utils.py:144: UserWarning: [W030] Some entities could not be aligned in the text \" Mutations in the brain specific P / Q type Ca2 + ...\" with entities \"[(194, 202, 'I_Disease'), (214, 222, 'B_Disease'),...\". Use `spacy.training.offsets_to_biluo_tags(nlp.make_doc(text), entities)` to check the alignment. Misaligned entities ('-') will be ignored during training.\n",
            "  entities=ent_str[:50] + \"...\" if len(ent_str) > 50 else ent_str,\n",
            "/usr/local/lib/python3.7/dist-packages/spacy/training/iob_utils.py:144: UserWarning: [W030] Some entities could not be aligned in the text \" However the wild - type allele was lost at some p...\" with entities \"[(68, 73, 'B_Disease'), (128, 135, 'I_Disease')]\". Use `spacy.training.offsets_to_biluo_tags(nlp.make_doc(text), entities)` to check the alignment. Misaligned entities ('-') will be ignored during training.\n",
            "  entities=ent_str[:50] + \"...\" if len(ent_str) > 50 else ent_str,\n",
            "/usr/local/lib/python3.7/dist-packages/spacy/training/iob_utils.py:144: UserWarning: [W030] Some entities could not be aligned in the text \" Mutations in the ATM gene are responsible for the...\" with entities \"[(80, 86, 'I_Disease'), (18, 19, 'I_Disease'), (87...\". Use `spacy.training.offsets_to_biluo_tags(nlp.make_doc(text), entities)` to check the alignment. Misaligned entities ('-') will be ignored during training.\n",
            "  entities=ent_str[:50] + \"...\" if len(ent_str) > 50 else ent_str,\n",
            "/usr/local/lib/python3.7/dist-packages/spacy/training/iob_utils.py:144: UserWarning: [W030] Some entities could not be aligned in the text \" The risk of harboring a mutation was not limited ...\" with entities \"[(17, 19, 'B_Disease'), (94, 101, 'B_Disease'), (8...\". Use `spacy.training.offsets_to_biluo_tags(nlp.make_doc(text), entities)` to check the alignment. Misaligned entities ('-') will be ignored during training.\n",
            "  entities=ent_str[:50] + \"...\" if len(ent_str) > 50 else ent_str,\n",
            "/usr/local/lib/python3.7/dist-packages/spacy/training/iob_utils.py:144: UserWarning: [W030] Some entities could not be aligned in the text \" Previous studies have demonstrated that a dose - ...\" with entities \"[(218, 228, 'B_Disease'), (229, 238, 'B_Disease'),...\". Use `spacy.training.offsets_to_biluo_tags(nlp.make_doc(text), entities)` to check the alignment. Misaligned entities ('-') will be ignored during training.\n",
            "  entities=ent_str[:50] + \"...\" if len(ent_str) > 50 else ent_str,\n",
            "/usr/local/lib/python3.7/dist-packages/spacy/training/iob_utils.py:144: UserWarning: [W030] Some entities could not be aligned in the text \" Four amino acid substitutions , Leu27Phe , Thr48I...\" with entities \"[(235, 236, 'I_Disease'), (108, 118, 'I_Disease'),...\". Use `spacy.training.offsets_to_biluo_tags(nlp.make_doc(text), entities)` to check the alignment. Misaligned entities ('-') will be ignored during training.\n",
            "  entities=ent_str[:50] + \"...\" if len(ent_str) > 50 else ent_str,\n",
            "/usr/local/lib/python3.7/dist-packages/spacy/training/iob_utils.py:144: UserWarning: [W030] Some entities could not be aligned in the text \" A novel screening assay was used to investigate f...\" with entities \"[(73, 83, 'B_Disease'), (165, 174, 'B_Disease'), (...\". Use `spacy.training.offsets_to_biluo_tags(nlp.make_doc(text), entities)` to check the alignment. Misaligned entities ('-') will be ignored during training.\n",
            "  entities=ent_str[:50] + \"...\" if len(ent_str) > 50 else ent_str,\n",
            "/usr/local/lib/python3.7/dist-packages/spacy/training/iob_utils.py:144: UserWarning: [W030] Some entities could not be aligned in the text \" The mean survival and height distribution of 134 ...\" with entities \"[(1, 2, 'B_Disease'), (50, 51, 'I_Disease'), (52, ...\". Use `spacy.training.offsets_to_biluo_tags(nlp.make_doc(text), entities)` to check the alignment. Misaligned entities ('-') will be ignored during training.\n",
            "  entities=ent_str[:50] + \"...\" if len(ent_str) > 50 else ent_str,\n",
            "/usr/local/lib/python3.7/dist-packages/spacy/training/iob_utils.py:144: UserWarning: [W030] Some entities could not be aligned in the text \" Phenylketonuria ( PKU ) , a disorder of amino aci...\" with entities \"[(95, 98, 'B_Disease'), (174, 187, 'B_Disease'), (...\". Use `spacy.training.offsets_to_biluo_tags(nlp.make_doc(text), entities)` to check the alignment. Misaligned entities ('-') will be ignored during training.\n",
            "  entities=ent_str[:50] + \"...\" if len(ent_str) > 50 else ent_str,\n",
            "/usr/local/lib/python3.7/dist-packages/spacy/training/iob_utils.py:144: UserWarning: [W030] Some entities could not be aligned in the text \" We have analysed 60 families with a history of br...\" with entities \"[(55, 58, 'B_Disease'), (48, 54, 'I_Disease'), (41...\". Use `spacy.training.offsets_to_biluo_tags(nlp.make_doc(text), entities)` to check the alignment. Misaligned entities ('-') will be ignored during training.\n",
            "  entities=ent_str[:50] + \"...\" if len(ent_str) > 50 else ent_str,\n",
            "/usr/local/lib/python3.7/dist-packages/spacy/training/iob_utils.py:144: UserWarning: [W030] Some entities could not be aligned in the text \" While the WASP gene defects responsible for isola...\" with entities \"[(45, 53, 'I_Disease'), (54, 70, 'B_Disease'), (11...\". Use `spacy.training.offsets_to_biluo_tags(nlp.make_doc(text), entities)` to check the alignment. Misaligned entities ('-') will be ignored during training.\n",
            "  entities=ent_str[:50] + \"...\" if len(ent_str) > 50 else ent_str,\n",
            "/usr/local/lib/python3.7/dist-packages/spacy/training/iob_utils.py:144: UserWarning: [W030] Some entities could not be aligned in the text \" By routine screening of sera , a subject was disc...\" with entities \"[(34, 37, 'I_Disease'), (99, 102, 'B_Disease'), (8...\". Use `spacy.training.offsets_to_biluo_tags(nlp.make_doc(text), entities)` to check the alignment. Misaligned entities ('-') will be ignored during training.\n",
            "  entities=ent_str[:50] + \"...\" if len(ent_str) > 50 else ent_str,\n",
            "/usr/local/lib/python3.7/dist-packages/spacy/training/iob_utils.py:144: UserWarning: [W030] Some entities could not be aligned in the text \" The Type II C2 null allele ( C2Q0 ) is linked to ...\" with entities \"[(10, 11, 'B_Disease'), (13, 15, 'B_Disease'), (15...\". Use `spacy.training.offsets_to_biluo_tags(nlp.make_doc(text), entities)` to check the alignment. Misaligned entities ('-') will be ignored during training.\n",
            "  entities=ent_str[:50] + \"...\" if len(ent_str) > 50 else ent_str,\n",
            "/usr/local/lib/python3.7/dist-packages/spacy/training/iob_utils.py:144: UserWarning: [W030] Some entities could not be aligned in the text \" We have identified WASP , the protein that is def...\" with entities \"[(70, 77, 'B_Disease'), (78, 86, 'B_Disease'), (68...\". Use `spacy.training.offsets_to_biluo_tags(nlp.make_doc(text), entities)` to check the alignment. Misaligned entities ('-') will be ignored during training.\n",
            "  entities=ent_str[:50] + \"...\" if len(ent_str) > 50 else ent_str,\n",
            "/usr/local/lib/python3.7/dist-packages/spacy/training/iob_utils.py:144: UserWarning: [W030] Some entities could not be aligned in the text \" Thus , WASP provides a novel link between CDC42Hs...\" with entities \"[(8, 11, 'I_Disease')]\". Use `spacy.training.offsets_to_biluo_tags(nlp.make_doc(text), entities)` to check the alignment. Misaligned entities ('-') will be ignored during training.\n",
            "  entities=ent_str[:50] + \"...\" if len(ent_str) > 50 else ent_str,\n",
            "/usr/local/lib/python3.7/dist-packages/spacy/training/iob_utils.py:144: UserWarning: [W030] Some entities could not be aligned in the text \" Germ - line mutations of the BRCA1 gene are respo...\" with entities \"[(58, 60, 'B_Disease'), (159, 165, 'B_Disease'), (...\". Use `spacy.training.offsets_to_biluo_tags(nlp.make_doc(text), entities)` to check the alignment. Misaligned entities ('-') will be ignored during training.\n",
            "  entities=ent_str[:50] + \"...\" if len(ent_str) > 50 else ent_str,\n",
            "/usr/local/lib/python3.7/dist-packages/spacy/training/iob_utils.py:144: UserWarning: [W030] Some entities could not be aligned in the text \" We have used this technique to analyze BRCA1 in 1...\" with entities \"[(87, 90, 'B_Disease'), (80, 86, 'I_Disease'), (73...\". Use `spacy.training.offsets_to_biluo_tags(nlp.make_doc(text), entities)` to check the alignment. Misaligned entities ('-') will be ignored during training.\n",
            "  entities=ent_str[:50] + \"...\" if len(ent_str) > 50 else ent_str,\n",
            "/usr/local/lib/python3.7/dist-packages/spacy/training/iob_utils.py:144: UserWarning: [W030] Some entities could not be aligned in the text \" Atm , the mouse homolog of the human ATM gene def...\" with entities \"[(60, 66, 'I_Disease'), (1, 2, 'I_Disease'), (67, ...\". Use `spacy.training.offsets_to_biluo_tags(nlp.make_doc(text), entities)` to check the alignment. Misaligned entities ('-') will be ignored during training.\n",
            "  entities=ent_str[:50] + \"...\" if len(ent_str) > 50 else ent_str,\n",
            "/usr/local/lib/python3.7/dist-packages/spacy/training/iob_utils.py:144: UserWarning: [W030] Some entities could not be aligned in the text \" To elucidate the role of DMPK in DM pathogenesis ...\" with entities \"[(26, 28, 'I_Disease'), (68, 72, 'I_Disease'), (73...\". Use `spacy.training.offsets_to_biluo_tags(nlp.make_doc(text), entities)` to check the alignment. Misaligned entities ('-') will be ignored during training.\n",
            "  entities=ent_str[:50] + \"...\" if len(ent_str) > 50 else ent_str,\n",
            "/usr/local/lib/python3.7/dist-packages/spacy/training/iob_utils.py:144: UserWarning: [W030] Some entities could not be aligned in the text \" Our results indicate that DMPK may be necessary f...\" with entities \"[(27, 29, 'I_Disease')]\". Use `spacy.training.offsets_to_biluo_tags(nlp.make_doc(text), entities)` to check the alignment. Misaligned entities ('-') will be ignored during training.\n",
            "  entities=ent_str[:50] + \"...\" if len(ent_str) > 50 else ent_str,\n",
            "/usr/local/lib/python3.7/dist-packages/spacy/training/iob_utils.py:144: UserWarning: [W030] Some entities could not be aligned in the text \" The Wiskott - Aldrich syndrome protein ( WASP ) g...\" with entities \"[(138, 144, 'B_Disease'), (145, 161, 'B_Disease'),...\". Use `spacy.training.offsets_to_biluo_tags(nlp.make_doc(text), entities)` to check the alignment. Misaligned entities ('-') will be ignored during training.\n",
            "  entities=ent_str[:50] + \"...\" if len(ent_str) > 50 else ent_str,\n",
            "/usr/local/lib/python3.7/dist-packages/spacy/training/iob_utils.py:144: UserWarning: [W030] Some entities could not be aligned in the text \" We describe the proportion of hereditary breast c...\" with entities \"[(237, 244, 'B_Disease'), (42, 48, 'B_Disease'), (...\". Use `spacy.training.offsets_to_biluo_tags(nlp.make_doc(text), entities)` to check the alignment. Misaligned entities ('-') will be ignored during training.\n",
            "  entities=ent_str[:50] + \"...\" if len(ent_str) > 50 else ent_str,\n",
            "/usr/local/lib/python3.7/dist-packages/spacy/training/iob_utils.py:144: UserWarning: [W030] Some entities could not be aligned in the text \" The second A - T allele has a different mutation ...\" with entities \"[(14, 15, 'B_Disease'), (1, 2, 'B_Disease'), (12, ...\". Use `spacy.training.offsets_to_biluo_tags(nlp.make_doc(text), entities)` to check the alignment. Misaligned entities ('-') will be ignored during training.\n",
            "  entities=ent_str[:50] + \"...\" if len(ent_str) > 50 else ent_str,\n",
            "/usr/local/lib/python3.7/dist-packages/spacy/training/iob_utils.py:144: UserWarning: [W030] Some entities could not be aligned in the text \" The demonstration of mutations giving rise to a s...\" with entities \"[(1, 2, 'B_Disease'), (78, 79, 'I_Disease'), (80, ...\". Use `spacy.training.offsets_to_biluo_tags(nlp.make_doc(text), entities)` to check the alignment. Misaligned entities ('-') will be ignored during training.\n",
            "  entities=ent_str[:50] + \"...\" if len(ent_str) > 50 else ent_str,\n",
            "/usr/local/lib/python3.7/dist-packages/spacy/training/iob_utils.py:144: UserWarning: [W030] Some entities could not be aligned in the text \" ATM + / - fibroblasts and thymocytes showed inter...\" with entities \"[(148, 154, 'I_Disease'), (1, 3, 'I_Disease')]\". Use `spacy.training.offsets_to_biluo_tags(nlp.make_doc(text), entities)` to check the alignment. Misaligned entities ('-') will be ignored during training.\n",
            "  entities=ent_str[:50] + \"...\" if len(ent_str) > 50 else ent_str,\n",
            "/usr/local/lib/python3.7/dist-packages/spacy/training/iob_utils.py:144: UserWarning: [W030] Some entities could not be aligned in the text \" Mutations in the diastrophic dysplasia sulfate tr...\" with entities \"[(232, 233, 'B_Disease'), (248, 263, 'I_Disease'),...\". Use `spacy.training.offsets_to_biluo_tags(nlp.make_doc(text), entities)` to check the alignment. Misaligned entities ('-') will be ignored during training.\n",
            "  entities=ent_str[:50] + \"...\" if len(ent_str) > 50 else ent_str,\n",
            "/usr/local/lib/python3.7/dist-packages/spacy/training/iob_utils.py:144: UserWarning: [W030] Some entities could not be aligned in the text \" The presence of the DTDST R279W mutation in a tot...\" with entities \"[(21, 24, 'I_Disease'), (73, 76, 'I_Disease')]\". Use `spacy.training.offsets_to_biluo_tags(nlp.make_doc(text), entities)` to check the alignment. Misaligned entities ('-') will be ignored during training.\n",
            "  entities=ent_str[:50] + \"...\" if len(ent_str) > 50 else ent_str,\n",
            "/usr/local/lib/python3.7/dist-packages/spacy/training/iob_utils.py:144: UserWarning: [W030] Some entities could not be aligned in the text \" Cumulative mutation data have revealed that WASP ...\" with entities \"[(45, 48, 'I_Disease')]\". Use `spacy.training.offsets_to_biluo_tags(nlp.make_doc(text), entities)` to check the alignment. Misaligned entities ('-') will be ignored during training.\n",
            "  entities=ent_str[:50] + \"...\" if len(ent_str) > 50 else ent_str,\n",
            "/usr/local/lib/python3.7/dist-packages/spacy/training/iob_utils.py:144: UserWarning: [W030] Some entities could not be aligned in the text \" To address this issue we characterized WASP mutat...\" with entities \"[(40, 43, 'I_Disease')]\". Use `spacy.training.offsets_to_biluo_tags(nlp.make_doc(text), entities)` to check the alignment. Misaligned entities ('-') will be ignored during training.\n",
            "  entities=ent_str[:50] + \"...\" if len(ent_str) > 50 else ent_str,\n",
            "/usr/local/lib/python3.7/dist-packages/spacy/training/iob_utils.py:144: UserWarning: [W030] Some entities could not be aligned in the text \" Similarly , while the cumulative data revealed a ...\" with entities \"[(135, 143, 'I_Disease'), (144, 160, 'B_Disease'),...\". Use `spacy.training.offsets_to_biluo_tags(nlp.make_doc(text), entities)` to check the alignment. Misaligned entities ('-') will be ignored during training.\n",
            "  entities=ent_str[:50] + \"...\" if len(ent_str) > 50 else ent_str,\n",
            "/usr/local/lib/python3.7/dist-packages/spacy/training/iob_utils.py:144: UserWarning: [W030] Some entities could not be aligned in the text \" These findings , as well as the detection of iden...\" with entities \"[(56, 59, 'I_Disease')]\". Use `spacy.training.offsets_to_biluo_tags(nlp.make_doc(text), entities)` to check the alignment. Misaligned entities ('-') will be ignored during training.\n",
            "  entities=ent_str[:50] + \"...\" if len(ent_str) > 50 else ent_str,\n",
            "/usr/local/lib/python3.7/dist-packages/spacy/training/iob_utils.py:144: UserWarning: [W030] Some entities could not be aligned in the text \" Twenty microsatellite markers in the HRPT2 region...\" with entities \"[(139, 142, 'B_Disease'), (131, 136, 'B_Disease'),...\". Use `spacy.training.offsets_to_biluo_tags(nlp.make_doc(text), entities)` to check the alignment. Misaligned entities ('-') will be ignored during training.\n",
            "  entities=ent_str[:50] + \"...\" if len(ent_str) > 50 else ent_str,\n",
            "/usr/local/lib/python3.7/dist-packages/spacy/training/iob_utils.py:144: UserWarning: [W030] Some entities could not be aligned in the text \" The ATM gene is responsible for the autosomal rec...\" with entities \"[(75, 89, 'B_Disease'), (130, 142, 'B_Disease'), (...\". Use `spacy.training.offsets_to_biluo_tags(nlp.make_doc(text), entities)` to check the alignment. Misaligned entities ('-') will be ignored during training.\n",
            "  entities=ent_str[:50] + \"...\" if len(ent_str) > 50 else ent_str,\n",
            "/usr/local/lib/python3.7/dist-packages/spacy/training/iob_utils.py:144: UserWarning: [W030] Some entities could not be aligned in the text \" However , a single mutation was observed in 32 / ...\" with entities \"[(87, 88, 'B_Disease'), (63, 64, 'I_Disease'), (64...\". Use `spacy.training.offsets_to_biluo_tags(nlp.make_doc(text), entities)` to check the alignment. Misaligned entities ('-') will be ignored during training.\n",
            "  entities=ent_str[:50] + \"...\" if len(ent_str) > 50 else ent_str,\n",
            "/usr/local/lib/python3.7/dist-packages/spacy/training/iob_utils.py:144: UserWarning: [W030] Some entities could not be aligned in the text \" This founder effect provides a unique opportunity...\" with entities \"[(66, 67, 'B_Disease'), (1, 2, 'B_Disease'), (88, ...\". Use `spacy.training.offsets_to_biluo_tags(nlp.make_doc(text), entities)` to check the alignment. Misaligned entities ('-') will be ignored during training.\n",
            "  entities=ent_str[:50] + \"...\" if len(ent_str) > 50 else ent_str,\n",
            "/usr/local/lib/python3.7/dist-packages/spacy/training/iob_utils.py:144: UserWarning: [W030] Some entities could not be aligned in the text \" Nine ( 17 % ) of the patients had a family histor...\" with entities \"[(62, 65, 'B_Disease'), (79, 85, 'B_Disease'), (55...\". Use `spacy.training.offsets_to_biluo_tags(nlp.make_doc(text), entities)` to check the alignment. Misaligned entities ('-') will be ignored during training.\n",
            "  entities=ent_str[:50] + \"...\" if len(ent_str) > 50 else ent_str,\n",
            "/usr/local/lib/python3.7/dist-packages/spacy/training/iob_utils.py:144: UserWarning: [W030] Some entities could not be aligned in the text \" Thus the most common polymorphisms of the BRCA1 g...\" with entities \"[(106, 113, 'B_Disease'), (96, 102, 'I_Disease'), ...\". Use `spacy.training.offsets_to_biluo_tags(nlp.make_doc(text), entities)` to check the alignment. Misaligned entities ('-') will be ignored during training.\n",
            "  entities=ent_str[:50] + \"...\" if len(ent_str) > 50 else ent_str,\n",
            "/usr/local/lib/python3.7/dist-packages/spacy/training/iob_utils.py:144: UserWarning: [W030] Some entities could not be aligned in the text \" We tentatively isolate three different types of S...\" with entities \"[(116, 125, 'B_Disease'), (49, 52, 'I_Disease'), (...\". Use `spacy.training.offsets_to_biluo_tags(nlp.make_doc(text), entities)` to check the alignment. Misaligned entities ('-') will be ignored during training.\n",
            "  entities=ent_str[:50] + \"...\" if len(ent_str) > 50 else ent_str,\n",
            "/usr/local/lib/python3.7/dist-packages/spacy/training/iob_utils.py:144: UserWarning: [W030] Some entities could not be aligned in the text \" Mutations in the WT1 gene were anticipated to exp...\" with entities \"[(18, 20, 'I_Disease'), (90, 96, 'I_Disease'), (97...\". Use `spacy.training.offsets_to_biluo_tags(nlp.make_doc(text), entities)` to check the alignment. Misaligned entities ('-') will be ignored during training.\n",
            "  entities=ent_str[:50] + \"...\" if len(ent_str) > 50 else ent_str,\n",
            "/usr/local/lib/python3.7/dist-packages/spacy/training/iob_utils.py:144: UserWarning: [W030] Some entities could not be aligned in the text \" While only 5 % of sporadic Wilms tumours have int...\" with entities \"[(165, 179, 'I_Disease'), (155, 162, 'B_Disease'),...\". Use `spacy.training.offsets_to_biluo_tags(nlp.make_doc(text), entities)` to check the alignment. Misaligned entities ('-') will be ignored during training.\n",
            "  entities=ent_str[:50] + \"...\" if len(ent_str) > 50 else ent_str,\n",
            "/usr/local/lib/python3.7/dist-packages/spacy/training/iob_utils.py:144: UserWarning: [W030] Some entities could not be aligned in the text \" In the Japanese population , however , there has ...\" with entities \"[(99, 103, 'I_Disease')]\". Use `spacy.training.offsets_to_biluo_tags(nlp.make_doc(text), entities)` to check the alignment. Misaligned entities ('-') will be ignored during training.\n",
            "  entities=ent_str[:50] + \"...\" if len(ent_str) > 50 else ent_str,\n",
            "/usr/local/lib/python3.7/dist-packages/spacy/training/iob_utils.py:144: UserWarning: [W030] Some entities could not be aligned in the text \" These data suggest that IDDM2 is involved in the ...\" with entities \"[(25, 29, 'I_Disease')]\". Use `spacy.training.offsets_to_biluo_tags(nlp.make_doc(text), entities)` to check the alignment. Misaligned entities ('-') will be ignored during training.\n",
            "  entities=ent_str[:50] + \"...\" if len(ent_str) > 50 else ent_str,\n",
            "/usr/local/lib/python3.7/dist-packages/spacy/training/iob_utils.py:144: UserWarning: [W030] Some entities could not be aligned in the text \" The high frequencies of disease - associated alle...\" with entities \"[(93, 97, 'I_Disease')]\". Use `spacy.training.offsets_to_biluo_tags(nlp.make_doc(text), entities)` to check the alignment. Misaligned entities ('-') will be ignored during training.\n",
            "  entities=ent_str[:50] + \"...\" if len(ent_str) > 50 else ent_str,\n",
            "/usr/local/lib/python3.7/dist-packages/spacy/training/iob_utils.py:144: UserWarning: [W030] Some entities could not be aligned in the text \" We describe herein , to our knowledge , for the f...\" with entities \"[(103, 104, 'B_Disease'), (84, 85, 'B_Disease'), (...\". Use `spacy.training.offsets_to_biluo_tags(nlp.make_doc(text), entities)` to check the alignment. Misaligned entities ('-') will be ignored during training.\n",
            "  entities=ent_str[:50] + \"...\" if len(ent_str) > 50 else ent_str,\n",
            "/usr/local/lib/python3.7/dist-packages/spacy/training/iob_utils.py:144: UserWarning: [W030] Some entities could not be aligned in the text \" Overexpression of ATM cDNA in A - T cells enhance...\" with entities \"[(20, 21, 'B_Disease'), (19, 20, 'I_Disease'), (33...\". Use `spacy.training.offsets_to_biluo_tags(nlp.make_doc(text), entities)` to check the alignment. Misaligned entities ('-') will be ignored during training.\n",
            "  entities=ent_str[:50] + \"...\" if len(ent_str) > 50 else ent_str,\n",
            "/usr/local/lib/python3.7/dist-packages/spacy/training/iob_utils.py:144: UserWarning: [W030] Some entities could not be aligned in the text \" This correction of the defects in A - T cells pro...\" with entities \"[(1, 2, 'B_Disease'), (35, 36, 'I_Disease'), (37, ...\". Use `spacy.training.offsets_to_biluo_tags(nlp.make_doc(text), entities)` to check the alignment. Misaligned entities ('-') will be ignored during training.\n",
            "  entities=ent_str[:50] + \"...\" if len(ent_str) > 50 else ent_str,\n",
            "/usr/local/lib/python3.7/dist-packages/spacy/training/iob_utils.py:144: UserWarning: [W030] Some entities could not be aligned in the text \" Analysis of DMAHP expression in the cells of DM p...\" with entities \"[(13, 15, 'I_Disease')]\". Use `spacy.training.offsets_to_biluo_tags(nlp.make_doc(text), entities)` to check the alignment. Misaligned entities ('-') will be ignored during training.\n",
            "  entities=ent_str[:50] + \"...\" if len(ent_str) > 50 else ent_str,\n",
            "/usr/local/lib/python3.7/dist-packages/spacy/training/iob_utils.py:144: UserWarning: [W030] Some entities could not be aligned in the text \" Together , these results demonstrate that CTG - r...\" with entities \"[(116, 118, 'I_Disease')]\". Use `spacy.training.offsets_to_biluo_tags(nlp.make_doc(text), entities)` to check the alignment. Misaligned entities ('-') will be ignored during training.\n",
            "  entities=ent_str[:50] + \"...\" if len(ent_str) > 50 else ent_str,\n"
          ]
        },
        {
          "output_type": "stream",
          "name": "stdout",
          "text": [
            "{'token_acc': 1.0, 'token_p': 1.0, 'token_r': 1.0, 'token_f': 1.0, 'sents_p': 1.0, 'sents_r': 1.0, 'sents_f': 1.0, 'tag_acc': None, 'pos_acc': None, 'morph_acc': None, 'morph_micro_p': None, 'morph_micro_r': None, 'morph_micro_f': None, 'morph_per_feat': None, 'dep_uas': None, 'dep_las': None, 'dep_las_per_type': None, 'ents_p': 0.7820598006644518, 'ents_r': 0.7657774886141835, 'ents_f': 0.7738330046022355, 'ents_per_type': {'I_Disease': {'p': 0.768025078369906, 'r': 0.7573415765069552, 'f': 0.7626459143968871}, 'B_Disease': {'p': 0.7923875432525952, 'r': 0.7719101123595505, 'f': 0.7820147979510529}}, 'cats_score': 0.0, 'cats_score_desc': 'macro F', 'cats_micro_p': 0.0, 'cats_micro_r': 0.0, 'cats_micro_f': 0.0, 'cats_macro_p': 0.0, 'cats_macro_r': 0.0, 'cats_macro_f': 0.0, 'cats_macro_auc': 0.0, 'cats_f_per_type': {}, 'cats_auc_per_type': {}}\n"
          ]
        }
      ],
      "source": [
        "\n",
        "\n",
        "other_pipes = [pipe for pipe in nlp.pipe_names if pipe != 'ner']\n",
        "ind_pr=0.0\n",
        "with nlp.disable_pipes(*other_pipes):  # only train NER\n",
        "    nlp.begin_training()\n",
        "    learn_rate = 0.001\n",
        "    beta1 = 0.9\n",
        "    beta2 = 0.999\n",
        "    eps = 1e-8\n",
        "    L2 = 1e-6\n",
        "    max_grad_norm = 1.0\n",
        "    optimizer = Adam( learn_rate, L2=L2, beta1=beta1, beta2=beta2, eps=eps)\n",
        "    for itn in range(epoche):\n",
        "        random.shuffle(train_data)\n",
        "        losses = {}\n",
        "        for batch in spacy.util.minibatch(train_data, size=100):\n",
        "             for text, annotations in batch:\n",
        "                    try:\n",
        "                        example = Example.from_dict(nlp.make_doc(text), annotations)\n",
        "                        nlp.update([example],drop=0.2,sgd=optimizer,losses=losses)\n",
        "                    except:\n",
        "                        continue\n",
        "    if epoche % 5 == 0:\n",
        "        examples = []\n",
        "        for text, annotations in val_data:\n",
        "            try:\n",
        "                example = Example.from_dict(nlp.make_doc(text), annotations)\n",
        "                example.predicted = nlp(str(example.predicted))\n",
        "                examples.append(example)\n",
        "            except:\n",
        "                continue\n",
        "        scorer = Scorer()\n",
        "        results=scorer.score(examples)\n",
        "        print(results)\n",
        "        current_pr=results['ents_p']\n",
        "        if current_pr>ind_pr:\n",
        "            nlp.to_disk(\"NER_model\")\n",
        "            current_pr==ind_pr\n",
        "        "
      ]
    },
    {
      "cell_type": "code",
      "source": [
        "df = pd.DataFrame(results)\n",
        "df.to_csv(download_path + \"validate_performance.txt\")"
      ],
      "metadata": {
        "id": "35U48Rr5hOCh"
      },
      "id": "35U48Rr5hOCh",
      "execution_count": 47,
      "outputs": []
    },
    {
      "cell_type": "markdown",
      "id": "a5173087",
      "metadata": {
        "id": "a5173087"
      },
      "source": [
        "# Question one : Adjust the learning rate (10e-5 - 10e-3) to see the performance change"
      ]
    },
    {
      "cell_type": "markdown",
      "source": [
        "**Answer:**"
      ],
      "metadata": {
        "id": "YVXmEpW_-3fR"
      },
      "id": "YVXmEpW_-3fR"
    },
    {
      "cell_type": "markdown",
      "source": [
        "# Question two : add more epoch(5-10 to see the model performance)"
      ],
      "metadata": {
        "id": "jrS6tNDT_Y-q"
      },
      "id": "jrS6tNDT_Y-q"
    },
    {
      "cell_type": "markdown",
      "source": [
        "**Answer:**"
      ],
      "metadata": {
        "id": "epP1gX4T_dF5"
      },
      "id": "epP1gX4T_dF5"
    },
    {
      "cell_type": "markdown",
      "source": [
        "# Question three : try to write the code for testing and report the model performance"
      ],
      "metadata": {
        "id": "9uf3Q7rr_idl"
      },
      "id": "9uf3Q7rr_idl"
    },
    {
      "cell_type": "code",
      "execution_count": null,
      "id": "641356cd",
      "metadata": {
        "id": "641356cd"
      },
      "outputs": [],
      "source": [
        "##Answer hint+:\n",
        "examples = []\n",
        "for text, annotations in test_data:\n",
        "##finish the code for testing dataset and report the model performance##"
      ]
    }
  ],
  "metadata": {
    "kernelspec": {
      "display_name": "Python 3 (ipykernel)",
      "language": "python",
      "name": "python3"
    },
    "language_info": {
      "codemirror_mode": {
        "name": "ipython",
        "version": 3
      },
      "file_extension": ".py",
      "mimetype": "text/x-python",
      "name": "python",
      "nbconvert_exporter": "python",
      "pygments_lexer": "ipython3",
      "version": "3.9.12"
    },
    "colab": {
      "provenance": [],
      "collapsed_sections": []
    },
    "accelerator": "GPU",
    "widgets": {
      "application/vnd.jupyter.widget-state+json": {
        "5a454ae69436455eb48c3e32cb684057": {
          "model_module": "@jupyter-widgets/controls",
          "model_name": "HBoxModel",
          "model_module_version": "1.5.0",
          "state": {
            "_dom_classes": [],
            "_model_module": "@jupyter-widgets/controls",
            "_model_module_version": "1.5.0",
            "_model_name": "HBoxModel",
            "_view_count": null,
            "_view_module": "@jupyter-widgets/controls",
            "_view_module_version": "1.5.0",
            "_view_name": "HBoxView",
            "box_style": "",
            "children": [
              "IPY_MODEL_888da5b74a474f47b099adae1732b3f1",
              "IPY_MODEL_3c1fc14040794f9ea5e2653090141cf2",
              "IPY_MODEL_186689051f68425dbbf018e2e05c59fe"
            ],
            "layout": "IPY_MODEL_33a9c810097e4b2ba40a70af4597f7c8"
          }
        },
        "888da5b74a474f47b099adae1732b3f1": {
          "model_module": "@jupyter-widgets/controls",
          "model_name": "HTMLModel",
          "model_module_version": "1.5.0",
          "state": {
            "_dom_classes": [],
            "_model_module": "@jupyter-widgets/controls",
            "_model_module_version": "1.5.0",
            "_model_name": "HTMLModel",
            "_view_count": null,
            "_view_module": "@jupyter-widgets/controls",
            "_view_module_version": "1.5.0",
            "_view_name": "HTMLView",
            "description": "",
            "description_tooltip": null,
            "layout": "IPY_MODEL_ffd2498c20b84338ba83480cdfca5cb9",
            "placeholder": "​",
            "style": "IPY_MODEL_088c0baf176441e9b7edbd579ab1ed17",
            "value": "100%"
          }
        },
        "3c1fc14040794f9ea5e2653090141cf2": {
          "model_module": "@jupyter-widgets/controls",
          "model_name": "FloatProgressModel",
          "model_module_version": "1.5.0",
          "state": {
            "_dom_classes": [],
            "_model_module": "@jupyter-widgets/controls",
            "_model_module_version": "1.5.0",
            "_model_name": "FloatProgressModel",
            "_view_count": null,
            "_view_module": "@jupyter-widgets/controls",
            "_view_module_version": "1.5.0",
            "_view_name": "ProgressView",
            "bar_style": "success",
            "description": "",
            "description_tooltip": null,
            "layout": "IPY_MODEL_2144a77250364ec3ad1d5754500a3bf2",
            "max": 3,
            "min": 0,
            "orientation": "horizontal",
            "style": "IPY_MODEL_609529358e3d43cebdb60a99a6df13e0",
            "value": 3
          }
        },
        "186689051f68425dbbf018e2e05c59fe": {
          "model_module": "@jupyter-widgets/controls",
          "model_name": "HTMLModel",
          "model_module_version": "1.5.0",
          "state": {
            "_dom_classes": [],
            "_model_module": "@jupyter-widgets/controls",
            "_model_module_version": "1.5.0",
            "_model_name": "HTMLModel",
            "_view_count": null,
            "_view_module": "@jupyter-widgets/controls",
            "_view_module_version": "1.5.0",
            "_view_name": "HTMLView",
            "description": "",
            "description_tooltip": null,
            "layout": "IPY_MODEL_7e69020cd06d4265b4629742cf114355",
            "placeholder": "​",
            "style": "IPY_MODEL_1350464472eb4ad4a560405983a1f672",
            "value": " 3/3 [00:00&lt;00:00,  9.21it/s]"
          }
        },
        "33a9c810097e4b2ba40a70af4597f7c8": {
          "model_module": "@jupyter-widgets/base",
          "model_name": "LayoutModel",
          "model_module_version": "1.2.0",
          "state": {
            "_model_module": "@jupyter-widgets/base",
            "_model_module_version": "1.2.0",
            "_model_name": "LayoutModel",
            "_view_count": null,
            "_view_module": "@jupyter-widgets/base",
            "_view_module_version": "1.2.0",
            "_view_name": "LayoutView",
            "align_content": null,
            "align_items": null,
            "align_self": null,
            "border": null,
            "bottom": null,
            "display": null,
            "flex": null,
            "flex_flow": null,
            "grid_area": null,
            "grid_auto_columns": null,
            "grid_auto_flow": null,
            "grid_auto_rows": null,
            "grid_column": null,
            "grid_gap": null,
            "grid_row": null,
            "grid_template_areas": null,
            "grid_template_columns": null,
            "grid_template_rows": null,
            "height": null,
            "justify_content": null,
            "justify_items": null,
            "left": null,
            "margin": null,
            "max_height": null,
            "max_width": null,
            "min_height": null,
            "min_width": null,
            "object_fit": null,
            "object_position": null,
            "order": null,
            "overflow": null,
            "overflow_x": null,
            "overflow_y": null,
            "padding": null,
            "right": null,
            "top": null,
            "visibility": null,
            "width": null
          }
        },
        "ffd2498c20b84338ba83480cdfca5cb9": {
          "model_module": "@jupyter-widgets/base",
          "model_name": "LayoutModel",
          "model_module_version": "1.2.0",
          "state": {
            "_model_module": "@jupyter-widgets/base",
            "_model_module_version": "1.2.0",
            "_model_name": "LayoutModel",
            "_view_count": null,
            "_view_module": "@jupyter-widgets/base",
            "_view_module_version": "1.2.0",
            "_view_name": "LayoutView",
            "align_content": null,
            "align_items": null,
            "align_self": null,
            "border": null,
            "bottom": null,
            "display": null,
            "flex": null,
            "flex_flow": null,
            "grid_area": null,
            "grid_auto_columns": null,
            "grid_auto_flow": null,
            "grid_auto_rows": null,
            "grid_column": null,
            "grid_gap": null,
            "grid_row": null,
            "grid_template_areas": null,
            "grid_template_columns": null,
            "grid_template_rows": null,
            "height": null,
            "justify_content": null,
            "justify_items": null,
            "left": null,
            "margin": null,
            "max_height": null,
            "max_width": null,
            "min_height": null,
            "min_width": null,
            "object_fit": null,
            "object_position": null,
            "order": null,
            "overflow": null,
            "overflow_x": null,
            "overflow_y": null,
            "padding": null,
            "right": null,
            "top": null,
            "visibility": null,
            "width": null
          }
        },
        "088c0baf176441e9b7edbd579ab1ed17": {
          "model_module": "@jupyter-widgets/controls",
          "model_name": "DescriptionStyleModel",
          "model_module_version": "1.5.0",
          "state": {
            "_model_module": "@jupyter-widgets/controls",
            "_model_module_version": "1.5.0",
            "_model_name": "DescriptionStyleModel",
            "_view_count": null,
            "_view_module": "@jupyter-widgets/base",
            "_view_module_version": "1.2.0",
            "_view_name": "StyleView",
            "description_width": ""
          }
        },
        "2144a77250364ec3ad1d5754500a3bf2": {
          "model_module": "@jupyter-widgets/base",
          "model_name": "LayoutModel",
          "model_module_version": "1.2.0",
          "state": {
            "_model_module": "@jupyter-widgets/base",
            "_model_module_version": "1.2.0",
            "_model_name": "LayoutModel",
            "_view_count": null,
            "_view_module": "@jupyter-widgets/base",
            "_view_module_version": "1.2.0",
            "_view_name": "LayoutView",
            "align_content": null,
            "align_items": null,
            "align_self": null,
            "border": null,
            "bottom": null,
            "display": null,
            "flex": null,
            "flex_flow": null,
            "grid_area": null,
            "grid_auto_columns": null,
            "grid_auto_flow": null,
            "grid_auto_rows": null,
            "grid_column": null,
            "grid_gap": null,
            "grid_row": null,
            "grid_template_areas": null,
            "grid_template_columns": null,
            "grid_template_rows": null,
            "height": null,
            "justify_content": null,
            "justify_items": null,
            "left": null,
            "margin": null,
            "max_height": null,
            "max_width": null,
            "min_height": null,
            "min_width": null,
            "object_fit": null,
            "object_position": null,
            "order": null,
            "overflow": null,
            "overflow_x": null,
            "overflow_y": null,
            "padding": null,
            "right": null,
            "top": null,
            "visibility": null,
            "width": null
          }
        },
        "609529358e3d43cebdb60a99a6df13e0": {
          "model_module": "@jupyter-widgets/controls",
          "model_name": "ProgressStyleModel",
          "model_module_version": "1.5.0",
          "state": {
            "_model_module": "@jupyter-widgets/controls",
            "_model_module_version": "1.5.0",
            "_model_name": "ProgressStyleModel",
            "_view_count": null,
            "_view_module": "@jupyter-widgets/base",
            "_view_module_version": "1.2.0",
            "_view_name": "StyleView",
            "bar_color": null,
            "description_width": ""
          }
        },
        "7e69020cd06d4265b4629742cf114355": {
          "model_module": "@jupyter-widgets/base",
          "model_name": "LayoutModel",
          "model_module_version": "1.2.0",
          "state": {
            "_model_module": "@jupyter-widgets/base",
            "_model_module_version": "1.2.0",
            "_model_name": "LayoutModel",
            "_view_count": null,
            "_view_module": "@jupyter-widgets/base",
            "_view_module_version": "1.2.0",
            "_view_name": "LayoutView",
            "align_content": null,
            "align_items": null,
            "align_self": null,
            "border": null,
            "bottom": null,
            "display": null,
            "flex": null,
            "flex_flow": null,
            "grid_area": null,
            "grid_auto_columns": null,
            "grid_auto_flow": null,
            "grid_auto_rows": null,
            "grid_column": null,
            "grid_gap": null,
            "grid_row": null,
            "grid_template_areas": null,
            "grid_template_columns": null,
            "grid_template_rows": null,
            "height": null,
            "justify_content": null,
            "justify_items": null,
            "left": null,
            "margin": null,
            "max_height": null,
            "max_width": null,
            "min_height": null,
            "min_width": null,
            "object_fit": null,
            "object_position": null,
            "order": null,
            "overflow": null,
            "overflow_x": null,
            "overflow_y": null,
            "padding": null,
            "right": null,
            "top": null,
            "visibility": null,
            "width": null
          }
        },
        "1350464472eb4ad4a560405983a1f672": {
          "model_module": "@jupyter-widgets/controls",
          "model_name": "DescriptionStyleModel",
          "model_module_version": "1.5.0",
          "state": {
            "_model_module": "@jupyter-widgets/controls",
            "_model_module_version": "1.5.0",
            "_model_name": "DescriptionStyleModel",
            "_view_count": null,
            "_view_module": "@jupyter-widgets/base",
            "_view_module_version": "1.2.0",
            "_view_name": "StyleView",
            "description_width": ""
          }
        }
      }
    }
  },
  "nbformat": 4,
  "nbformat_minor": 5
}